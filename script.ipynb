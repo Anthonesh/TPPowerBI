{
 "cells": [
  {
   "cell_type": "code",
   "execution_count": null,
   "metadata": {},
   "outputs": [],
   "source": [
    "import pandas as pd\n",
    "\n",
    "df = pd.read_csv('carcteristiques-2022.csv', sep=';')\n",
    "\n",
    "df.rename(columns={'Accident_Id': 'Num_Acc'}, inplace=True)\n",
    "\n",
    "df.to_csv('Caracteristiques-2022.csv', sep=';' , index=False)\n",
    "\n",
    "print(\"Le nom de la colonne a été changé avec succès !\")\n"
   ]
  }
 ],
 "metadata": {
  "kernelspec": {
   "display_name": "Python 3",
   "language": "python",
   "name": "python3"
  },
  "language_info": {
   "name": "python",
   "version": "3.11.9"
  }
 },
 "nbformat": 4,
 "nbformat_minor": 2
}
